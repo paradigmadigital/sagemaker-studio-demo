{
 "cells": [
  {
   "cell_type": "code",
   "execution_count": 21,
   "metadata": {},
   "outputs": [],
   "source": [
    "import boto3\n",
    "import pandas as pd"
   ]
  },
  {
   "cell_type": "code",
   "execution_count": 2,
   "metadata": {},
   "outputs": [],
   "source": [
    "sm = boto3.Session().client('runtime.sagemaker')"
   ]
  },
  {
   "cell_type": "markdown",
   "metadata": {},
   "source": [
    "# Test endpoint"
   ]
  },
  {
   "cell_type": "code",
   "execution_count": 17,
   "metadata": {},
   "outputs": [],
   "source": [
    "def infer(input_data):\n",
    "    response = sm.invoke_endpoint(EndpointName=endpoint, ContentType='text/csv', Accept='text/csv', Body=input_data)\n",
    "    prediction = response['Body'].read().decode(\"utf-8\")\n",
    "    return prediction"
   ]
  },
  {
   "cell_type": "code",
   "execution_count": 20,
   "metadata": {},
   "outputs": [
    {
     "name": "stdout",
     "output_type": "stream",
     "text": [
      "prediction: 6\n",
      "\n"
     ]
    }
   ],
   "source": [
    "endpoint = 'wine1'\n",
    "data = '9.1,0.785,0.00,2.6,0.093,11.0,28.0,0.99940,3.36,0.86,9.40'\n",
    "\n",
    "prediction = infer(data)\n",
    "print('prediction:', prediction)"
   ]
  },
  {
   "cell_type": "markdown",
   "metadata": {},
   "source": [
    "# Check accuracy with test data"
   ]
  },
  {
   "cell_type": "code",
   "execution_count": 55,
   "metadata": {},
   "outputs": [],
   "source": [
    "DATA_PATH = 'sagemaker-studio-demo/wine/data/'\n",
    "df = pd.read_csv(DATA_PATH+'wine-red-test.csv')"
   ]
  },
  {
   "cell_type": "code",
   "execution_count": 73,
   "metadata": {},
   "outputs": [],
   "source": [
    "total = hits = 0\n",
    "\n",
    "for index, row in df.iterrows():\n",
    "    label = row['quality']\n",
    "    input_data = ','.join(row.drop('quality').astype(str).tolist())\n",
    "    prediction = infer(input_data)\n",
    "    \n",
    "    total += 1\n",
    "    if int(label) == int(prediction):\n",
    "        hits += 1"
   ]
  },
  {
   "cell_type": "code",
   "execution_count": 74,
   "metadata": {},
   "outputs": [
    {
     "name": "stdout",
     "output_type": "stream",
     "text": [
      "total: 320\n",
      "hits: 284\n",
      "accuracy: 0.8875\n"
     ]
    }
   ],
   "source": [
    "print('total:', total)\n",
    "print('hits:', hits)\n",
    "print('score:', hits/total)"
   ]
  }
 ],
 "metadata": {
  "kernelspec": {
   "display_name": "Python 3",
   "language": "python",
   "name": "python3"
  },
  "language_info": {
   "codemirror_mode": {
    "name": "ipython",
    "version": 3
   },
   "file_extension": ".py",
   "mimetype": "text/x-python",
   "name": "python",
   "nbconvert_exporter": "python",
   "pygments_lexer": "ipython3",
   "version": "3.7.6"
  }
 },
 "nbformat": 4,
 "nbformat_minor": 4
}
